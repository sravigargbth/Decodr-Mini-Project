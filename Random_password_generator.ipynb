{
  "nbformat": 4,
  "nbformat_minor": 0,
  "metadata": {
    "colab": {
      "name": "Random_password_generator.ipynb",
      "provenance": [],
      "include_colab_link": true
    },
    "kernelspec": {
      "name": "python3",
      "display_name": "Python 3"
    },
    "language_info": {
      "name": "python"
    }
  },
  "cells": [
    {
      "cell_type": "markdown",
      "metadata": {
        "id": "view-in-github",
        "colab_type": "text"
      },
      "source": [
        "<a href=\"https://colab.research.google.com/github/sravigargbth/Decodr-Mini-Project/blob/main/Random_password_generator.ipynb\" target=\"_parent\"><img src=\"https://colab.research.google.com/assets/colab-badge.svg\" alt=\"Open In Colab\"/></a>"
      ]
    },
    {
      "cell_type": "markdown",
      "metadata": {
        "id": "o4agzwPS-tda"
      },
      "source": [
        "**Write a program to create a random password generator by using basic python inbuilt functions and datatype.**"
      ]
    },
    {
      "cell_type": "code",
      "metadata": {
        "id": "CDAWY1fBDe67",
        "colab": {
          "base_uri": "https://localhost:8080/"
        },
        "outputId": "a54141e2-92f2-4c2c-fa34-5066ed380464"
      },
      "source": [
        "import random\n",
        "\n",
        "num = ['0', '1', '2', '3', '4', '5', '6', '7', '8', '9']\n",
        "lower = ['a', 'b', 'c', 'd', 'e', 'f', 'g', 'h','i', 'j', 'k', 'm', 'n', 'o', 'p', 'q','r', 's', 't', 'u', 'v', 'w', 'x', 'y','z']\n",
        "upper = ['A', 'B', 'C', 'D', 'E', 'F', 'G', 'H','I', 'J', 'K', 'M', 'N', 'O', 'p', 'Q','R', 'S', 'T', 'U', 'V', 'W', 'X', 'Y','Z']\n",
        "\n",
        "special = ['@', '#', '$', '%', '=', ':', '?', '/', '|', '~','*', '(', ')']\n",
        "pass_char = num + upper + lower + special\n",
        "password = \"\"\n",
        "\n",
        "length = int(input(\"Input Password Length: \"))\n",
        "while len(password) != length:\n",
        "    password = password + random.choice(pass_char)\n",
        "    if len(password) == length:\n",
        "        print(\"Password:\", (password))"
      ],
      "execution_count": null,
      "outputs": [
        {
          "output_type": "stream",
          "name": "stdout",
          "text": [
            "Input Password Length: 8\n",
            "Password: 3YhsckBC\n"
          ]
        }
      ]
    },
    {
      "cell_type": "code",
      "metadata": {
        "id": "TXf4sG3nBuPL",
        "colab": {
          "base_uri": "https://localhost:8080/"
        },
        "outputId": "12851f83-7040-4237-8633-dd3191bd6ddf"
      },
      "source": [
        "import random\n",
        "\n",
        "pass_chars = \"abcdefghijklmnopqrstuvwxyziABCDEFGHIJKLMNOPQRSTUVWXYZ1234567890^?!?$%&/()=?`'+#*'~';:_,.-<>|\"\n",
        "password = \"\"\n",
        "\n",
        "length = int(input(\"Input Password Length: \"))\n",
        "while len(password) != length:\n",
        "    password = password + random.choice(pass_chars)\n",
        "    if len(password) == length:\n",
        "        print(\"Password:\", (password))"
      ],
      "execution_count": null,
      "outputs": [
        {
          "output_type": "stream",
          "name": "stdout",
          "text": [
            "Input Password Length: 4\n",
            "Password: /14U\n"
          ]
        }
      ]
    }
  ]
}