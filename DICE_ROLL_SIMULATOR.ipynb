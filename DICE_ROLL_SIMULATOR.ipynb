{
  "nbformat": 4,
  "nbformat_minor": 0,
  "metadata": {
    "colab": {
      "name": "DICE_ROLL_SIMULATOR.ipynb",
      "provenance": [],
      "include_colab_link": true
    },
    "kernelspec": {
      "display_name": "Python 3",
      "language": "python",
      "name": "python3"
    },
    "language_info": {
      "codemirror_mode": {
        "name": "ipython",
        "version": 3
      },
      "file_extension": ".py",
      "mimetype": "text/x-python",
      "name": "python",
      "nbconvert_exporter": "python",
      "pygments_lexer": "ipython3",
      "version": "3.8.5"
    }
  },
  "cells": [
    {
      "cell_type": "markdown",
      "metadata": {
        "id": "view-in-github",
        "colab_type": "text"
      },
      "source": [
        "<a href=\"https://colab.research.google.com/github/sravigargbth/Decodr-Mini-Project/blob/main/DICE_ROLL_SIMULATOR.ipynb\" target=\"_parent\"><img src=\"https://colab.research.google.com/assets/colab-badge.svg\" alt=\"Open In Colab\"/></a>"
      ]
    },
    {
      "cell_type": "markdown",
      "metadata": {
        "id": "Wv1JUmWT83j4"
      },
      "source": [
        "**create a classic rolling dice simulator with the help of basic Python knowledge. Here we will be using the random module since we randomize the dice simulator for random outputs.**\n",
        "[If user input is equal to the random number print you win the game and if random value does not match with user then you loses]"
      ]
    },
    {
      "cell_type": "code",
      "metadata": {
        "id": "XUWXteY09jwo"
      },
      "source": [
        "import random\n",
        "a = int(input(\"Roll the dice : \"))\n",
        "\n",
        "b = random.randint(1,6)\n",
        "if(a == b):\n",
        "    print(\"You won the game\")\n",
        "\n",
        "else:\n",
        "    print(\"Sorry, the dice number is: \", (b),'\\n You lost the game')\n",
        "    \n"
      ],
      "execution_count": null,
      "outputs": []
    }
  ]
}