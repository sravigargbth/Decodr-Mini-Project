{
  "nbformat": 4,
  "nbformat_minor": 0,
  "metadata": {
    "colab": {
      "name": "Calculator_Miniproject.ipynb",
      "provenance": [],
      "include_colab_link": true
    },
    "kernelspec": {
      "name": "python3",
      "display_name": "Python 3"
    },
    "language_info": {
      "name": "python"
    }
  },
  "cells": [
    {
      "cell_type": "markdown",
      "metadata": {
        "id": "view-in-github",
        "colab_type": "text"
      },
      "source": [
        "<a href=\"https://colab.research.google.com/github/sravigargbth/Decodr-Mini-Project/blob/main/Calculator_Miniproject.ipynb\" target=\"_parent\"><img src=\"https://colab.research.google.com/assets/colab-badge.svg\" alt=\"Open In Colab\"/></a>"
      ]
    },
    {
      "cell_type": "markdown",
      "metadata": {
        "id": "ZoX1vsne78hk"
      },
      "source": [
        "**Write a program to make a calculator which perform operations like Addition , Subtraction , Multiplication etc on Two numbers input by the user.**"
      ]
    },
    {
      "cell_type": "code",
      "metadata": {
        "id": "6Sy0uQp78Y8p",
        "colab": {
          "base_uri": "https://localhost:8080/"
        },
        "outputId": "882b89cd-eb43-4ec2-cc85-b7950f15a783"
      },
      "source": [
        "num1 = float(input(\"Enter first number: \"))\n",
        "num2 = float(input(\"Enter second number: \"))\n",
        "\n",
        "\n",
        "print(\"Select Operation: +, -, *, /\")\n",
        "select = input(\"Operations: \")\n",
        "\n",
        "\n",
        "\n",
        "if select == \"+\":\n",
        "    print(num1, \"+\", num2, \"=\", num1+num2)\n",
        "\n",
        "elif select == \"-\":\n",
        "    print(num1, \"-\", num2, \"=\", num1-num2)\n",
        "\n",
        "elif select == \"*\":\n",
        "    print(num1, \"*\", num2, \"=\", num1*num2)\n",
        "\n",
        "elif select == \"/\":\n",
        "    if num2 == 0:\n",
        "        print('Number is not divisible by 0')\n",
        "    else:\n",
        "        print(num1, \"/\", num2, \"=\", num1/num2)\n",
        "else:\n",
        "    print(\"Invalid input\")\n"
      ],
      "execution_count": null,
      "outputs": [
        {
          "output_type": "stream",
          "name": "stdout",
          "text": [
            "Enter first number: 8\n",
            "Enter second number: 5\n",
            "Select Operation: +, -, *, /\n",
            "Operations: +\n",
            "8.0 + 5.0 = 13.0\n"
          ]
        }
      ]
    }
  ]
}