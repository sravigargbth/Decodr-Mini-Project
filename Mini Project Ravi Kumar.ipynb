{
 "cells": [
  {
   "cell_type": "markdown",
   "metadata": {},
   "source": [
    "### Mini Projects \n",
    "\n",
    "\n",
    "\n",
    "\n"
   ]
  },
  {
   "cell_type": "markdown",
   "metadata": {},
   "source": [
    "#### Problem : 1 Write a program to make a calculator which perform operations like Addition , Subtraction , Multiplication etc on Two numbers input by the user."
   ]
  },
  {
   "cell_type": "code",
   "execution_count": 31,
   "metadata": {},
   "outputs": [
    {
     "name": "stdout",
     "output_type": "stream",
     "text": [
      "Enter first number: 8\n",
      "Enter second number: 2\n",
      "Select Operation: +, -, *, /\n",
      "Operations: /\n",
      "8.0 / 2.0 = 4.0\n"
     ]
    }
   ],
   "source": [
    "\n",
    "num1 = float(input(\"Enter first number: \"))\n",
    "num2 = float(input(\"Enter second number: \"))\n",
    "\n",
    "\n",
    "print(\"Select Operation: +, -, *, /\")\n",
    "select = input(\"Operations: \")\n",
    "\n",
    "\n",
    "\n",
    "if select == \"+\":\n",
    "    print(num1, \"+\", num2, \"=\", num1+num2)\n",
    "\n",
    "elif select == \"-\":\n",
    "    print(num1, \"-\", num2, \"=\", num1-num2)\n",
    "\n",
    "elif select == \"*\":\n",
    "    print(num1, \"*\", num2, \"=\", num1*num2)\n",
    "\n",
    "elif select == \"/\":\n",
    "    if num2 == 0:\n",
    "        print('Number is not divisible by 0')\n",
    "    else:\n",
    "        print(num1, \"/\", num2, \"=\", num1/num2)\n",
    "else:\n",
    "    print(\"Invalid input\")"
   ]
  },
  {
   "cell_type": "markdown",
   "metadata": {},
   "source": [
    "**Project 2:  Create a classic rolling dice simulator with the help of basic Python knowledge. Here we will be using the random module since we randomize the dice simulator for random outputs. [If user input is equal to the random number print you win the game and if random value does not match with user then you loses]**"
   ]
  },
  {
   "cell_type": "code",
   "execution_count": 3,
   "metadata": {},
   "outputs": [
    {
     "name": "stdout",
     "output_type": "stream",
     "text": [
      "Roll the dice : 2\n",
      "Sorry, the random dice number is:  4 \n",
      " You lost the game\n"
     ]
    }
   ],
   "source": [
    "import random\n",
    "a = int(input(\"Roll the dice : \"))\n",
    "\n",
    "b = random.randint(1,6)\n",
    "if(a == b):\n",
    "    print(\"You won the game\")\n",
    "\n",
    "else:\n",
    "    print(\"Sorry, the random dice number is: \", (b),'\\n You lost the game')"
   ]
  },
  {
   "cell_type": "markdown",
   "metadata": {},
   "source": [
    "#### Problem : 3 Write a program to create a random password generator by using basic python inbuilt functions and datatype."
   ]
  },
  {
   "cell_type": "code",
   "execution_count": 4,
   "metadata": {},
   "outputs": [
    {
     "name": "stdout",
     "output_type": "stream",
     "text": [
      "Input Password Length: 8\n",
      "Password: p.8W8)'R\n"
     ]
    }
   ],
   "source": [
    "import random\n",
    "\n",
    "pass_chars = \"abcdefghijklmnopqrstuvwxyziABCDEFGHIJKLMNOPQRSTUVWXYZ1234567890^?!?$%&/()=?`'+#*'~';:_,.-<>|\"\n",
    "password = \"\"\n",
    "\n",
    "length = int(input(\"Input Password Length: \"))\n",
    "while len(password) != length:\n",
    "    password = password + random.choice(pass_chars)\n",
    "    if len(password) == length:\n",
    "        print(\"Password:\", (password))"
   ]
  },
  {
   "cell_type": "code",
   "execution_count": 9,
   "metadata": {},
   "outputs": [
    {
     "name": "stdout",
     "output_type": "stream",
     "text": [
      "Input Password Length: num= 2\n",
      "Password: )G\n"
     ]
    }
   ],
   "source": [
    "import random\n",
    "\n",
    "num = ['0', '1', '2', '3', '4', '5', '6', '7', '8', '9']\n",
    "lower = ['a', 'b', 'c', 'd', 'e', 'f', 'g', 'h','i', 'j', 'k', 'm', 'n', 'o', 'p', 'q','r', 's', 't', 'u', 'v', 'w', 'x', 'y','z']\n",
    "upper = ['A', 'B', 'C', 'D', 'E', 'F', 'G', 'H','I', 'J', 'K', 'M', 'N', 'O', 'p', 'Q','R', 'S', 'T', 'U', 'V', 'W', 'X', 'Y','Z']\n",
    "\n",
    "special = ['@', '#', '$', '%', '=', ':', '?', '/', '|', '~','*', '(', ')']\n",
    "pass_char = num + upper + lower + special\n",
    "password = \"\"\n",
    "\n",
    "length = int(input(\"Input Password Length: num= \"))\n",
    "while len(password) != length:\n",
    "    password = password + random.choice(pass_char)\n",
    "    if len(password) == length:\n",
    "        print(\"Password:\", (password))"
   ]
  },
  {
   "cell_type": "code",
   "execution_count": null,
   "metadata": {},
   "outputs": [],
   "source": []
  }
 ],
 "metadata": {
  "kernelspec": {
   "display_name": "Python 3",
   "language": "python",
   "name": "python3"
  },
  "language_info": {
   "codemirror_mode": {
    "name": "ipython",
    "version": 3
   },
   "file_extension": ".py",
   "mimetype": "text/x-python",
   "name": "python",
   "nbconvert_exporter": "python",
   "pygments_lexer": "ipython3",
   "version": "3.8.5"
  }
 },
 "nbformat": 4,
 "nbformat_minor": 4
}
